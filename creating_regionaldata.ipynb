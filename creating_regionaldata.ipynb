{
  "nbformat": 4,
  "nbformat_minor": 0,
  "metadata": {
    "colab": {
      "name": "Untitled11.ipynb",
      "provenance": [],
      "mount_file_id": "1LMuJV6epyTjf6S3OxWx4IIlDwaQws7E6",
      "authorship_tag": "ABX9TyOz3Flhrqofr7mm2E6Fz1Y3",
      "include_colab_link": true
    },
    "kernelspec": {
      "name": "python3",
      "display_name": "Python 3"
    }
  },
  "cells": [
    {
      "cell_type": "markdown",
      "metadata": {
        "id": "view-in-github",
        "colab_type": "text"
      },
      "source": [
        "<a href=\"https://colab.research.google.com/github/fc0712/DSBA-project-craigslistdata/blob/main/creating_regionaldata.ipynb\" target=\"_parent\"><img src=\"https://colab.research.google.com/assets/colab-badge.svg\" alt=\"Open In Colab\"/></a>"
      ]
    },
    {
      "cell_type": "code",
      "metadata": {
        "id": "g0glFdRO0Rmr"
      },
      "source": [
        "import pandas as pd\n"
      ],
      "execution_count": 1,
      "outputs": []
    },
    {
      "cell_type": "code",
      "metadata": {
        "id": "06_1ql4u-afe"
      },
      "source": [
        "df = pd.read_csv(\"/content/drive/My Drive/Universitet/CBS/Kandidat/Cand.fælles/Data Science Projekt/Data_zipped.zip\")"
      ],
      "execution_count": 4,
      "outputs": []
    },
    {
      "cell_type": "code",
      "metadata": {
        "id": "zux7pTsY-ml8",
        "outputId": "2f6ca803-fbe0-4807-a039-affc3bc9ec03",
        "colab": {
          "base_uri": "https://localhost:8080/"
        }
      },
      "source": [
        "df.state.value_counts()"
      ],
      "execution_count": 18,
      "outputs": [
        {
          "output_type": "execute_result",
          "data": {
            "text/plain": [
              "ca    33085\n",
              "fl    31929\n",
              "tx    31137\n",
              "nc    18628\n",
              "mi    14529\n",
              "ga    13841\n",
              "oh    12884\n",
              "tn    11541\n",
              "co    11308\n",
              "va    11063\n",
              "ny     9991\n",
              "sc     9932\n",
              "pa     9911\n",
              "il     9706\n",
              "al     8196\n",
              "or     8079\n",
              "ks     7910\n",
              "ia     7488\n",
              "mn     7468\n",
              "md     7451\n",
              "la     7304\n",
              "wa     7061\n",
              "az     6753\n",
              "wi     6646\n",
              "in     6416\n",
              "ok     5788\n",
              "nj     5711\n",
              "ky     5419\n",
              "ut     5194\n",
              "ms     4973\n",
              "ma     4926\n",
              "id     4466\n",
              "ct     3765\n",
              "nd     3428\n",
              "ar     3149\n",
              "nm     2917\n",
              "nv     2846\n",
              "ne     2697\n",
              "dc     2502\n",
              "ak     2169\n",
              "mo     2158\n",
              "de     2048\n",
              "ri     1889\n",
              "hi     1840\n",
              "sd     1782\n",
              "nh     1761\n",
              "mt     1339\n",
              "wv      819\n",
              "vt      527\n",
              "me      420\n",
              "wy      187\n",
              "Name: state, dtype: int64"
            ]
          },
          "metadata": {
            "tags": []
          },
          "execution_count": 18
        }
      ]
    },
    {
      "cell_type": "code",
      "metadata": {
        "id": "wv9qi3N0FJDC"
      },
      "source": [
        "df_cali = df[df.state ==\"ca\"]"
      ],
      "execution_count": 19,
      "outputs": []
    },
    {
      "cell_type": "code",
      "metadata": {
        "id": "a9hNgvtKFS9q"
      },
      "source": [
        "df_florida = df[df.state ==\"fl\"]"
      ],
      "execution_count": 20,
      "outputs": []
    },
    {
      "cell_type": "code",
      "metadata": {
        "id": "bW5gstXtH6WM"
      },
      "source": [
        "df_texas = df[df.state == \"tx\"]"
      ],
      "execution_count": 21,
      "outputs": []
    },
    {
      "cell_type": "code",
      "metadata": {
        "id": "Dr4BQda6GSvD"
      },
      "source": [
        "df_cali.to_csv(\"data_cali.csv\")\n",
        "df_florida.to_csv(\"data_florida.csv\")\n",
        "df_texas.to_csv(\"data_texas.csv\")"
      ],
      "execution_count": 22,
      "outputs": []
    },
    {
      "cell_type": "code",
      "metadata": {
        "id": "bFQQJ7_cIPFa"
      },
      "source": [
        ""
      ],
      "execution_count": 23,
      "outputs": []
    },
    {
      "cell_type": "code",
      "metadata": {
        "id": "LHhzPWy4MrY7"
      },
      "source": [
        ""
      ],
      "execution_count": null,
      "outputs": []
    }
  ]
}